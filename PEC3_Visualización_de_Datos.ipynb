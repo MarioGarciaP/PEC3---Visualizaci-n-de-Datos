{
  "nbformat": 4,
  "nbformat_minor": 0,
  "metadata": {
    "colab": {
      "provenance": []
    },
    "kernelspec": {
      "name": "python3",
      "display_name": "Python 3"
    },
    "language_info": {
      "name": "python"
    }
  },
  "cells": [
    {
      "cell_type": "markdown",
      "source": [
        "# Unemployment by sex and age – monthly data"
      ],
      "metadata": {
        "id": "uYpqpu0Yft_c"
      }
    },
    {
      "cell_type": "markdown",
      "source": [
        "## Documentación"
      ],
      "metadata": {
        "id": "Zlg8j7X2gOA1"
      }
    },
    {
      "cell_type": "markdown",
      "source": [
        "El conjunto de datos pertenece a Eurostat\n",
        "\n",
        "Está disponible ne la siguiente url: https://ec.europa.eu/eurostat/databrowser/product/page/UNE_RT_M?lang=en\n",
        "\n",
        "La documentación se puede encontrar en https://ec.europa.eu/eurostat/cache/metadata/en/une_rt_m_esms.htm#unit_measure1678720107776"
      ],
      "metadata": {
        "id": "8MLdrdYIga9r"
      }
    },
    {
      "cell_type": "markdown",
      "source": [
        "Muestra la evolución del desempleo en los diferentes países de la unión europea."
      ],
      "metadata": {
        "id": "vYcQ-J3pg3at"
      }
    },
    {
      "cell_type": "markdown",
      "source": [
        "Los campos del conjunto de datos son:\n",
        "*   freq: frecuencia con la que se miden los datos. Todos los registros tienen el valor M (Mensualmente)\n",
        "*   s_adj: ajuste estacional (SA, NSA, TC)\n",
        "*   age: rango de edades en los que se ha realizado la medición TOTAL (todas las edades), Y25-74 (entre 25 y 74 años), Y_LT25 (Menos de 25 años)\n",
        "*   unit: unidad en la que se ha realizado la medición PC_ACT (Percentage of Active Population), THS_PER (Thousand persons)\n",
        "*   sex: sexo M (Masculino), F (Femenino), T (Todos)\n",
        "*   geo: código de la unidad geográfica (país) en la que se ha realizado la medición\n",
        "*   TIME_PERIOD: periodo en el que se realiza la medida con el formato YYYY-MM"
      ],
      "metadata": {
        "id": "PlFNRlJChAZR"
      }
    },
    {
      "cell_type": "markdown",
      "source": [
        "## Limpieza"
      ],
      "metadata": {
        "id": "UqLv8eu1gSa0"
      }
    },
    {
      "cell_type": "markdown",
      "source": [
        "1) Carga del conjunto de datos"
      ],
      "metadata": {
        "id": "b1wiKKMkgoWe"
      }
    },
    {
      "cell_type": "code",
      "source": [
        "import pandas as pd"
      ],
      "metadata": {
        "id": "i1ad0oCJkgg2"
      },
      "execution_count": 1,
      "outputs": []
    },
    {
      "cell_type": "code",
      "source": [
        "# Leer el archivo estat_une_rt_m.tsv como archivo de texto\n",
        "with open('/content/estat_une_rt_m.tsv', 'r') as file:\n",
        "    data = file.read()\n",
        "\n",
        "# Reemplaza las tabulaciones y \"/\" por comas\n",
        "data = data.replace('\\t', ',').replace('/', ',')\n",
        "\n",
        "# Guarda el contenido actualizado en unemployment.csv\n",
        "with open('/content/unemployment.csv', 'w') as file:\n",
        "    file.write(data)"
      ],
      "metadata": {
        "id": "5eYP-9SbqZjC"
      },
      "execution_count": 2,
      "outputs": []
    },
    {
      "cell_type": "code",
      "source": [
        "df_unemployment = pd.read_csv('/content/unemployment.csv')"
      ],
      "metadata": {
        "id": "dtSDJdQTqidm"
      },
      "execution_count": 3,
      "outputs": []
    },
    {
      "cell_type": "markdown",
      "source": [
        "2) Se cambia la estructura del conjunto"
      ],
      "metadata": {
        "id": "dk8-P7ctgs2G"
      }
    },
    {
      "cell_type": "code",
      "source": [
        "# Realiza la conversión utilizando la función melt()\n",
        "df = pd.melt(df_unemployment, id_vars=['freq', 's_adj', 'age', 'unit', 'sex', 'geo\\TIME_PERIOD'],\n",
        "                    var_name='date', value_name='tasa')\n",
        "\n",
        "df = df.rename(columns={'geo\\TIME_PERIOD': 'geo'})"
      ],
      "metadata": {
        "id": "cSxBJUzCsxwA"
      },
      "execution_count": 4,
      "outputs": []
    },
    {
      "cell_type": "markdown",
      "source": [
        "3) Se limpian las columnas\n",
        " - Se la columna 'date' se convierte a tipo fecha\n",
        " - Se eliminan los caracteres no numéricos de la columna 'tasa' y se convierte a numérica\n",
        " - Se cambian los valores de la columna 'age'\n",
        " - Se cmabian los valores de la columna 'unit'"
      ],
      "metadata": {
        "id": "dyBI4SlLqYOO"
      }
    },
    {
      "cell_type": "code",
      "source": [
        "df['date'] = pd.to_datetime(df['date'])\n",
        "df = df.loc[~df['tasa'].str.contains(': ')]\n",
        "df['tasa'] = df['tasa'].str.replace(\" p\", \"\")\n",
        "df['tasa'] = df['tasa'].str.replace(\" d\", \"\")\n",
        "df['tasa'] = df['tasa'].str.replace(\" b\", \"\")\n",
        "df['tasa'] = df['tasa'].str.replace(\" u\", \"\")\n",
        "df['tasa'] = df['tasa'].astype(float)\n",
        "\n",
        "df['age'] = df['age'].str.replace(\"TOTAL\", \"All\")\n",
        "df['age'] = df['age'].str.replace(\"Y25-74\", \"25-74\")\n",
        "df['age'] = df['age'].str.replace(\"Y_LT25\", \"0-25\")\n",
        "\n",
        "df['unit'] = df['unit'].str.replace(\"PC_ACT\", \"%PA\")\n",
        "df['unit'] = df['unit'].str.replace(\"THS_PER\", \"1.000P\")"
      ],
      "metadata": {
        "id": "r6yT5raVurRU"
      },
      "execution_count": 5,
      "outputs": []
    },
    {
      "cell_type": "markdown",
      "source": [
        "4) Se eliminan tanto los registros vacíos como los no necesarios"
      ],
      "metadata": {
        "id": "Ts-VPg9Cq82L"
      }
    },
    {
      "cell_type": "code",
      "source": [
        "df = df.loc[df['unit'] != '1.000P']\n",
        "df = df.loc[df['s_adj'] == 'SA']\n",
        "df = df.drop(['freq', 's_adj','unit'], axis=1)\n",
        "df = df.loc[df['geo'] != 'EA19']\n",
        "df = df.loc[df['geo'] != 'EA20']\n",
        "df = df.loc[df['geo'] != 'EU27_2020']\n",
        "df = df.loc[df['geo'] != 'nan']\n",
        "df = df.dropna(subset=['geo'])\n",
        "print(df)"
      ],
      "metadata": {
        "colab": {
          "base_uri": "https://localhost:8080/"
        },
        "id": "cKuzG6ilYfj7",
        "outputId": "0a9dea52-6fda-4fca-9e80-67bf60159c7f"
      },
      "execution_count": 6,
      "outputs": [
        {
          "output_type": "stream",
          "name": "stdout",
          "text": [
            "         age sex geo       date  tasa\n",
            "673      All   F  DK 1983-01-01   8.5\n",
            "681      All   F  FR 1983-01-01   9.0\n",
            "684      All   F  IE 1983-01-01  14.4\n",
            "686      All   F  IT 1983-01-01  11.2\n",
            "687      All   F  JP 1983-01-01   2.7\n",
            "...      ...  ..  ..        ...   ...\n",
            "943503  0-25   M  SE 2023-04-01  19.8\n",
            "943523  0-25   T  FI 2023-04-01  17.0\n",
            "943527  0-25   T  IE 2023-04-01   7.9\n",
            "943535  0-25   T  NL 2023-04-01   7.9\n",
            "943540  0-25   T  SE 2023-04-01  18.8\n",
            "\n",
            "[110217 rows x 5 columns]\n"
          ]
        }
      ]
    },
    {
      "cell_type": "markdown",
      "source": [
        "5) Se define un diccionario de códigos de países y se aplica el cambio de códigos en la columna 'geo'\n"
      ],
      "metadata": {
        "id": "t4xTFguvrE3c"
      }
    },
    {
      "cell_type": "code",
      "source": [
        "codigo_paises = {\n",
        "    'AT': 'AUT',\n",
        "    'BE': 'BEL',\n",
        "    'BG': 'BGR',\n",
        "    'CY': 'CYP',\n",
        "    'CZ': 'CZE',\n",
        "    'DE': 'DEU',\n",
        "    'DK': 'DNK',\n",
        "    'EE': 'EST',\n",
        "    'EL': 'GRC',\n",
        "    'ES': 'ESP',\n",
        "    'FI': 'FIN',\n",
        "    'FR': 'FRA',\n",
        "    'HR': 'HRV',\n",
        "    'HU': 'HUN',\n",
        "    'IE': 'IRL',\n",
        "    'IS': 'ISL',\n",
        "    'IT': 'ITA',\n",
        "    'JP': 'JPN',\n",
        "    'LT': 'LTU',\n",
        "    'LU': 'LUX',\n",
        "    'LV': 'LVA',\n",
        "    'MT': 'MLT',\n",
        "    'NL': 'NLD',\n",
        "    'NO': 'NOR',\n",
        "    'PL': 'POL',\n",
        "    'PT': 'PRT',\n",
        "    'RO': 'ROU',\n",
        "    'SE': 'SWE',\n",
        "    'SI': 'SVN',\n",
        "    'SK': 'SVK',\n",
        "    'TR': 'TUR',\n",
        "    'US': 'USA'\n",
        "}\n",
        "\n",
        "df['geo'] = df['geo'].map(codigo_paises)"
      ],
      "metadata": {
        "id": "IotHVgTGg_8n"
      },
      "execution_count": 7,
      "outputs": []
    },
    {
      "cell_type": "markdown",
      "source": [
        "6) Se crea un excel con los datos"
      ],
      "metadata": {
        "id": "nfp5b3XsrblX"
      }
    },
    {
      "cell_type": "code",
      "source": [
        "df.to_excel('/content/unemployment.xlsx', index=False)"
      ],
      "metadata": {
        "id": "Zz-96i5PHeG5"
      },
      "execution_count": 8,
      "outputs": []
    }
  ]
}